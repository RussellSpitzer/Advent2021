{
 "cells": [
  {
   "cell_type": "markdown",
   "id": "dbfafec9",
   "metadata": {},
   "source": [
    "# Day 1"
   ]
  },
  {
   "cell_type": "code",
   "execution_count": 3,
   "id": "64b53dda",
   "metadata": {},
   "outputs": [
    {
     "data": {
      "text/plain": [
       "1715"
      ]
     },
     "execution_count": 3,
     "metadata": {},
     "output_type": "execute_result"
    }
   ],
   "source": [
    "## Day 1: Part 1 - Sliding Window Increases\n",
    "with open('input_day1') as f:\n",
    "    lines = f.readlines()\n",
    "lines = [int(line) for line in lines]\n",
    "pairs = [lines[x: x + 2] for x in range (0, len(lines) - 1)]\n",
    "increasing_pairs = [pair for pair in pairs if pair[1] > pair[0]]\n",
    "len(increasing_pairs)"
   ]
  },
  {
   "cell_type": "code",
   "execution_count": 4,
   "id": "9b5cdff4",
   "metadata": {},
   "outputs": [
    {
     "data": {
      "text/plain": [
       "1739"
      ]
     },
     "execution_count": 4,
     "metadata": {},
     "output_type": "execute_result"
    }
   ],
   "source": [
    "## Day 1: Part 2 - Sliding Triplet Increases\n",
    "triplets = [lines[x: x + 3] for x in range (0, len(lines) - 2)]\n",
    "triplet_sums = [sum(triplet) for triplet in triplets]\n",
    "triplet_sum_pairs =  [triplet_sums[x: x + 2] for x in range (0, len(triplet_sums) - 1)]\n",
    "increasing_triplets = [triplet_pair for triplet_pair in triplet_sum_pairs if triplet_pair[1] > triplet_pair[0]] \n",
    "len(increasing_triplets)"
   ]
  },
  {
   "cell_type": "markdown",
   "id": "4d5eba13",
   "metadata": {},
   "source": [
    "# Day 2"
   ]
  },
  {
   "cell_type": "code",
   "execution_count": 11,
   "id": "f3a8cd25",
   "metadata": {},
   "outputs": [
    {
     "data": {
      "text/plain": [
       "2019945"
      ]
     },
     "execution_count": 11,
     "metadata": {},
     "output_type": "execute_result"
    }
   ],
   "source": [
    "## Day 2: Part 2 - Navigation\n",
    "with open('input_day2') as f:\n",
    "    lines = f.readlines()\n",
    "lines = [line.split(\" \") for line in lines]\n",
    "instructions = [[line[0], int(line[1])] for line in lines]\n",
    "horizontal, depth = 0, 0\n",
    "for [direction, speed] in instructions:\n",
    "    if direction == \"forward\":\n",
    "        horizontal += speed\n",
    "    elif direction == \"up\":\n",
    "        depth -= speed\n",
    "    elif direction == \"down\":\n",
    "        depth += speed\n",
    "    else:\n",
    "        raise ValueError(f\"Unknown direction: {direction}\")\n",
    "(horizontal * depth)\n",
    "        "
   ]
  },
  {
   "cell_type": "code",
   "execution_count": 12,
   "id": "03bc7cc4",
   "metadata": {},
   "outputs": [
    {
     "data": {
      "text/plain": [
       "1599311480"
      ]
     },
     "execution_count": 12,
     "metadata": {},
     "output_type": "execute_result"
    }
   ],
   "source": [
    "## Day 2: Part 2 - Navigation with Aim\n",
    "with open('input_day2') as f:\n",
    "    lines = f.readlines()\n",
    "lines = [line.split(\" \") for line in lines]\n",
    "instructions = [[line[0], int(line[1])] for line in lines]\n",
    "horizontal, depth, aim = 0, 0, 0\n",
    "for [direction, speed] in instructions:\n",
    "    if direction == \"forward\":\n",
    "        horizontal += speed\n",
    "        depth += speed * aim\n",
    "    elif direction == \"up\":\n",
    "        aim -= speed\n",
    "    elif direction == \"down\":\n",
    "        aim += speed\n",
    "    else:\n",
    "        raise ValueError(f\"Unknown direction: {direction}\")\n",
    "(horizontal * depth)"
   ]
  },
  {
   "cell_type": "markdown",
   "id": "987a5381",
   "metadata": {},
   "source": [
    "# Day 3"
   ]
  },
  {
   "cell_type": "code",
   "execution_count": 52,
   "id": "d3af0705",
   "metadata": {},
   "outputs": [
    {
     "data": {
      "text/plain": [
       "4160394"
      ]
     },
     "execution_count": 52,
     "metadata": {},
     "output_type": "execute_result"
    }
   ],
   "source": [
    "## Day 3: Part 1 - Power Rating\n",
    "with open('input_day3') as f:\n",
    "    lines = f.readlines()\n",
    "lines = [line.strip() for line in lines]\n",
    "frequency = [0] * len(lines[0])\n",
    "for line in lines:\n",
    "    for idx, character in enumerate(line):\n",
    "        if character == \"1\":\n",
    "            frequency[idx] += 1\n",
    "gamma = [min(int(f // (len(lines) / 2)), 1) for f in frequency]\n",
    "epsilon = [abs(f -1) for f in gamma]\n",
    "gamma_int = int(\"\".join((str(g) for g in gamma)), 2)\n",
    "epislon_int = int(\"\".join((str(e) for e in epsilon)), 2)\n",
    "gamma_int * epislon_int"
   ]
  },
  {
   "cell_type": "code",
   "execution_count": 50,
   "id": "dec7f92f",
   "metadata": {},
   "outputs": [
    {
     "data": {
      "text/plain": [
       "4125600"
      ]
     },
     "execution_count": 50,
     "metadata": {},
     "output_type": "execute_result"
    }
   ],
   "source": [
    "## Day 3: Part 2 - CO2 and Oxygen Rating\n",
    "with open('input_day3') as f:\n",
    "    lines = f.readlines()\n",
    "lines = [line.strip() for line in lines]\n",
    "line_len = len(lines[0])\n",
    "\n",
    "idx = 0\n",
    "ox_data = lines\n",
    "while len(ox_data) > 1:\n",
    "    freq = 0\n",
    "    for data in ox_data:\n",
    "        if data[idx] == \"1\":\n",
    "            freq += 1\n",
    "    most_frequent = min(int(freq // (len(ox_data) / 2)), 1)\n",
    "    ox_data = [data for data in ox_data if data[idx] == str(most_frequent)]\n",
    "    idx += 1\n",
    "ox_rating = int(ox_data[0], 2)\n",
    "\n",
    "idx = 0\n",
    "co_data = lines\n",
    "while len(co_data) > 1:\n",
    "    freq = 0\n",
    "    for data in co_data:\n",
    "        if data[idx] == \"1\":\n",
    "            freq += 1\n",
    "    least_frequent = abs(min(int(freq // (len(co_data) / 2)), 1) - 1)\n",
    "    co_data = [data for data in co_data if data[idx] == str(least_frequent)]\n",
    "    idx += 1\n",
    "co_rating = int(co_data[0], 2)\n",
    "\n",
    "\n",
    "ox_rating * co_rating\n"
   ]
  },
  {
   "cell_type": "markdown",
   "id": "41bae6d1",
   "metadata": {},
   "source": [
    "# Day 4"
   ]
  },
  {
   "cell_type": "code",
   "execution_count": 74,
   "id": "f6becd43",
   "metadata": {},
   "outputs": [
    {
     "name": "stdout",
     "output_type": "stream",
     "text": [
      "['46', '79', '77', '45', '57', '34', '44', '13', '32', '88', '86', '82', '91', '97', '89', '1', '48', '31', '18', '10', '55', '74', '24', '11', '80', '78', '28']\n",
      "\n",
      "['19', '85', '36', '73', '71']\n",
      "['65', '62', '14', '52', '3']\n",
      "['30', '83', '44*', '41', '5']\n",
      "['55*', '15', '0', '61', '95']\n",
      "['28*', '13*', '32*', '31*', '88*']\n"
     ]
    },
    {
     "data": {
      "text/plain": [
       "22680"
      ]
     },
     "execution_count": 74,
     "metadata": {},
     "output_type": "execute_result"
    }
   ],
   "source": [
    "## Day 4: Part1 Squid Bingo\n",
    "\n",
    "## Bingo Board Dimension\n",
    "bingo_dim = 5\n",
    "## Indicies of diagnoal elements\n",
    "diag_elements = [[(x,x) for x in range(0, bingo_dim)], [(x, bingo_dim - (x+1)) for x in range(0, bingo_dim)]]\n",
    "\n",
    "\n",
    "with open('input_day4') as f:\n",
    "    lines = f.readlines()\n",
    "\n",
    "number_draws = [x for x in lines[0].strip().split(\",\")]\n",
    "number_draws\n",
    "\n",
    "boards_string = lines[1::]\n",
    "\n",
    "def read_boards(input):\n",
    "    remaining_input = input\n",
    "    boards = []\n",
    "    while(len(remaining_input) != 0):\n",
    "        board = [row.strip().split() for row in remaining_input[1:1 + bingo_dim]]\n",
    "        remaining_input = remaining_input[1 + bingo_dim::]\n",
    "        boards += [board]\n",
    "    return boards\n",
    "\n",
    "def mark(board, draws):\n",
    "    draws = set(draws)\n",
    "    return [[square in draws for square in row] for row in board]\n",
    "    \n",
    "def board_victory(board, draws):\n",
    "    marked = mark(board, draws)\n",
    "    row_victories = [all(row) for row in marked]\n",
    "    col_victories = [all(col) for col in list(map(list, zip(*marked)))]\n",
    "    diagonal_victories = [all([marked[diag[0]][diag[1]] for diag in diag_path]) for diag_path in diag_elements] \n",
    "    return any(row_victories) or any(col_victories) or any(diagonal_victories)\n",
    "\n",
    "def sum_unmarked(board, draws):\n",
    "    draws = set(draws)\n",
    "    return sum(sum([int(square) for square in row if square not in draws]) for row in board)\n",
    "\n",
    "def print_board(board, draws):\n",
    "    for row in board:\n",
    "        print ([element + (\"\" if element not in draws else \"*\") for element in row])\n",
    "\n",
    "def find_winner(boards, full_draws):\n",
    "    for draw_idx in range(1, len(full_draws)):\n",
    "        draws = full_draws[0: draw_idx]\n",
    "        for board in boards:\n",
    "            if board_victory(board, draws):\n",
    "                print(draws)\n",
    "                print()\n",
    "                print_board(board, draws)\n",
    "                return sum_unmarked(board, draws) * int(draws[-1])\n",
    "        \n",
    "boards = read_boards(boards_string)\n",
    "#print(boards[0])\n",
    "#board_victory(boards[0], {'96', '33', '74', '35', '13'})\n",
    "find_winner(boards, number_draws)"
   ]
  },
  {
   "cell_type": "code",
   "execution_count": 73,
   "id": "9b7fa61d",
   "metadata": {},
   "outputs": [
    {
     "name": "stdout",
     "output_type": "stream",
     "text": [
      "['46', '79', '77', '45', '57', '34', '44', '13', '32', '88', '86', '82', '91', '97', '89', '1', '48', '31', '18', '10', '55', '74', '24', '11', '80', '78', '28', '37', '47', '17', '21', '61', '26', '85', '99', '96', '23', '70', '3', '54', '5', '41', '50', '63', '14', '64', '42', '36', '95', '52', '76', '68', '29', '9', '98', '35', '84', '83', '71', '49', '73', '58', '56', '66', '92', '30', '51', '20', '81', '69', '65', '15', '6', '16', '39', '43', '67', '7', '59', '40', '60', '4', '90', '72', '22', '0', '93', '94']\n",
      "\n",
      "['72*', '49*', '51*', '12', '43*']\n",
      "['73*', '56*', '83*', '4*', '27']\n",
      "['48*', '94*', '38', '18*', '32*']\n",
      "['14*', '96*', '36*', '8', '13*']\n",
      "['87', '60*', '5*', '77*', '42*']\n"
     ]
    },
    {
     "data": {
      "text/plain": [
       "16168"
      ]
     },
     "execution_count": 73,
     "metadata": {},
     "output_type": "execute_result"
    }
   ],
   "source": [
    "## Day 4: Part2 Squid Bingo Loser\n",
    "def find_loser(init_boards, full_draws):\n",
    "    boards = init_boards\n",
    "    for draw_idx in range(1, len(full_draws)):\n",
    "        draws = full_draws[0: draw_idx]\n",
    "        if (len(boards) == 1 and board_victory(boards[0], draws)):\n",
    "            # There is only one board left to check and it won, it is the last winner\n",
    "            print(draws)\n",
    "            print()\n",
    "            print_board(boards[0], draws)\n",
    "            return sum_unmarked(boards[0], draws) * int(draws[-1])\n",
    "        else:\n",
    "            # Remove all winners\n",
    "            boards = [board for board in boards if not board_victory(board, draws)]\n",
    "            \n",
    "find_loser(boards, number_draws)        \n"
   ]
  },
  {
   "cell_type": "markdown",
   "id": "64786601",
   "metadata": {},
   "source": [
    "# Day 5"
   ]
  },
  {
   "cell_type": "code",
   "execution_count": 178,
   "id": "3d4fb617",
   "metadata": {},
   "outputs": [
    {
     "data": {
      "text/plain": [
       "5145"
      ]
     },
     "execution_count": 178,
     "metadata": {},
     "output_type": "execute_result"
    }
   ],
   "source": [
    "# Day 5: Part 1 - No Diags\n",
    "\n",
    "with open('input_day5') as f:\n",
    "    lines = f.readlines()\n",
    "\n",
    "#lines = \"\"\"0,9 -> 5,9\n",
    "#8,0 -> 0,8\n",
    "#9,4 -> 3,4\n",
    "#2,2 -> 2,1\n",
    "#7,0 -> 7,4\n",
    "#6,4 -> 2,0\n",
    "#0,9 -> 2,9\n",
    "#3,4 -> 1,4\n",
    "#0,0 -> 8,8\n",
    "#5,5 -> 8,2\"\"\".split(\"\\n\")\n",
    "\n",
    "#dim = 10\n",
    "dim = 1000\n",
    "    \n",
    "coord_str = [(pair[0].split(\",\"), pair[1].split(\",\")) for pair in [line.strip().split(\" -> \") for line in lines]]\n",
    "coordinates = [((int(org[0]), int(org[1])),(int(dest[0]), int(dest[1]))) for (org, dest) in coord_str]\n",
    "\n",
    "chart = [[0] * dim for i in range(dim)]\n",
    "\n",
    "def print_chart(chart):\n",
    "    print(\"--- Chart ---\")\n",
    "    for row in chart:\n",
    "        print (\"\".join([str(value if value != 0 else \".\") for value in row]))\n",
    "        \n",
    "def normalize(x):\n",
    "    if (x == 0):\n",
    "        return 0\n",
    "    else:\n",
    "        return x // abs(x)\n",
    "\n",
    "for ((org_x, org_y), (dest_x, dest_y)) in coordinates:\n",
    "#    print (f\"{org_x},{org_y} -> {dest_x},{dest_y}\")\n",
    "    (dx, dy) = (normalize(dest_x - org_x), normalize(dest_y - org_y))\n",
    "    (delta_x, delta_y) = (0,0)\n",
    "    if (dx == 0):\n",
    "        #Draw verticle\n",
    "        while ((org_x + delta_x, org_y + delta_y) != (dest_x, dest_y)):\n",
    "            chart[org_y + delta_y][org_x + delta_x] += 1\n",
    "            delta_x += dx\n",
    "            delta_y += dy\n",
    "        chart[dest_y][dest_x] += 1\n",
    "        \n",
    "    if (dy == 0):\n",
    "        #Draw verticle\n",
    "        while ((org_x + delta_x, org_y + delta_y) != (dest_x, dest_y)):\n",
    "            chart[org_y + delta_y][org_x + delta_x] += 1\n",
    "            delta_x += dx\n",
    "            delta_y += dy\n",
    "        chart[dest_y][dest_x] += 1\n",
    "\n",
    "#print_chart(chart)\n",
    "\n",
    "danger_squares = 0\n",
    "for row in chart:\n",
    "    for value in row:\n",
    "        if value > 1:\n",
    "            danger_squares += 1\n",
    "\n",
    "danger_squares"
   ]
  },
  {
   "cell_type": "code",
   "execution_count": 182,
   "id": "e9e482d0",
   "metadata": {},
   "outputs": [
    {
     "data": {
      "text/plain": [
       "16518"
      ]
     },
     "execution_count": 182,
     "metadata": {},
     "output_type": "execute_result"
    }
   ],
   "source": [
    "# Day 5: Part 2 - Diags\n",
    "\n",
    "with open('input_day5') as f:\n",
    "    lines = f.readlines()\n",
    "\n",
    "#lines = \"\"\"0,9 -> 5,9\n",
    "#8,0 -> 0,8\n",
    "#9,4 -> 3,4\n",
    "#2,2 -> 2,1\n",
    "#7,0 -> 7,4\n",
    "#6,4 -> 2,0\n",
    "#0,9 -> 2,9\n",
    "#3,4 -> 1,4\n",
    "#0,0 -> 8,8\n",
    "#5,5 -> 8,2\"\"\".split(\"\\n\")\n",
    "\n",
    "#dim = 10\n",
    "dim = 1000\n",
    "    \n",
    "coord_str = [(pair[0].split(\",\"), pair[1].split(\",\")) for pair in [line.strip().split(\" -> \") for line in lines]]\n",
    "coordinates = [((int(org[0]), int(org[1])),(int(dest[0]), int(dest[1]))) for (org, dest) in coord_str]\n",
    "\n",
    "chart = [[0] * dim for i in range(dim)]\n",
    "\n",
    "def print_chart(chart):\n",
    "    print(\"--- Chart ---\")\n",
    "    for row in chart:\n",
    "        print (\"\".join([str(value if value != 0 else \".\") for value in row]))\n",
    "        \n",
    "def normalize(x):\n",
    "    if (x == 0):\n",
    "        return 0\n",
    "    else:\n",
    "        return x // abs(x)\n",
    "\n",
    "for ((org_x, org_y), (dest_x, dest_y)) in coordinates:\n",
    "#    print (f\"{org_x},{org_y} -> {dest_x},{dest_y}\")\n",
    "    (dx, dy) = (normalize(dest_x - org_x), normalize(dest_y - org_y))\n",
    "    (delta_x, delta_y) = (0,0)\n",
    "    while ((org_x + delta_x, org_y + delta_y) != (dest_x, dest_y)):\n",
    "        chart[org_y + delta_y][org_x + delta_x] += 1\n",
    "        delta_x += dx\n",
    "        delta_y += dy\n",
    "    chart[dest_y][dest_x] += 1\n",
    "\n",
    "#print_chart(chart)\n",
    "\n",
    "danger_squares = 0\n",
    "for row in chart:\n",
    "    for value in row:\n",
    "        if value > 1:\n",
    "            danger_squares += 1\n",
    "\n",
    "danger_squares"
   ]
  },
  {
   "cell_type": "markdown",
   "id": "14169d9e",
   "metadata": {},
   "source": [
    "# Day 6"
   ]
  },
  {
   "cell_type": "code",
   "execution_count": 15,
   "id": "eb26eadd",
   "metadata": {},
   "outputs": [
    {
     "name": "stdout",
     "output_type": "stream",
     "text": [
      "26\n"
     ]
    },
    {
     "data": {
      "text/plain": [
       "380758"
      ]
     },
     "execution_count": 15,
     "metadata": {},
     "output_type": "execute_result"
    }
   ],
   "source": [
    "## Day 6: Part 1 - Latern fish simulation\n",
    "def simulate_day(state):\n",
    "    new_state = []\n",
    "    for fish in state:\n",
    "        if fish == 0:\n",
    "            new_state += [6, 8]\n",
    "        else:\n",
    "            new_state += [fish - 1]\n",
    "    return new_state\n",
    "\n",
    "\n",
    "lines = [\"3,4,3,1,2\"]\n",
    "fish_state = [int(fish) for fish in lines[0].split(\",\")]\n",
    "for day in range(0, 18):\n",
    "     fish_state = simulate_day(fish_state)\n",
    "\n",
    "print(len(fish_state))\n",
    "    \n",
    "\n",
    "with open('input_day6') as f:\n",
    "    lines = f.readlines()\n",
    "fish_state = [int(fish) for fish in lines[0].split(\",\")]\n",
    "for day in range(0, 80):\n",
    "    fish_state = simulate_day(fish_state)\n",
    "\n",
    "len(fish_state)\n"
   ]
  },
  {
   "cell_type": "code",
   "execution_count": 27,
   "id": "9041c019",
   "metadata": {},
   "outputs": [
    {
     "name": "stdout",
     "output_type": "stream",
     "text": [
      "1710623015163\n"
     ]
    }
   ],
   "source": [
    "## Day 6: Part 2 - High Efficency latern fish simulation\n",
    "def simulate_day(state):\n",
    "    new_state = [0] * 9\n",
    "    for idx, num_fish in enumerate(state):\n",
    "        if (idx == 0):\n",
    "            new_state[6] += num_fish\n",
    "            new_state[8] += num_fish\n",
    "        else:\n",
    "            new_state[idx -1] += num_fish\n",
    "    return new_state\n",
    "\n",
    "def parse_fish(fish_string):\n",
    "    state = [0] * 9\n",
    "    for fish in lines[0].split(\",\"):\n",
    "        state[int(fish)] += 1\n",
    "    return state\n",
    "                \n",
    "#lines = [\"3,4,3,1,2\"]\n",
    "#\n",
    "#fish_state = parse_fish(lines[0])\n",
    "#for day in range(0, 256):\n",
    "#    print(fish_state)\n",
    "#    fish_state = simulate_day(fish_state)\n",
    "#\n",
    "#print(sum(fish_state))\n",
    "    \n",
    "with open('input_day6') as f:\n",
    "    lines = f.readlines()\n",
    "fish_state = parse_fish(lines[0])\n",
    "for day in range(0, 256):\n",
    "    fish_state = simulate_day(fish_state)\n",
    "print(sum(fish_state))"
   ]
  },
  {
   "cell_type": "markdown",
   "id": "2e23963e",
   "metadata": {},
   "source": [
    "# Day 7"
   ]
  },
  {
   "cell_type": "code",
   "execution_count": 10,
   "id": "ac6303c5",
   "metadata": {},
   "outputs": [
    {
     "data": {
      "text/plain": [
       "345035"
      ]
     },
     "execution_count": 10,
     "metadata": {},
     "output_type": "execute_result"
    }
   ],
   "source": [
    "with open('input_day7') as f:\n",
    "    lines = f.readlines()\n",
    "#positions = [int(x) for x in \"16,1,2,0,4,2,7,1,2,14\".split(\",\")]\n",
    "positions = [int(x) for x in lines[0].split(\",\")]\n",
    "sum(positions) / len(positions)\n",
    "max_pos = max(positions)\n",
    "min_pos = min(positions)\n",
    "\n",
    "def calculate_cost(positions, loc):\n",
    "    return sum(abs(loc - pos) for pos in positions)\n",
    "  \n",
    "min([calculate_cost(positions, loc) for loc in range(min_pos, max_pos + 1)])\n"
   ]
  },
  {
   "cell_type": "code",
   "execution_count": 14,
   "id": "0d4635cd",
   "metadata": {},
   "outputs": [
    {
     "data": {
      "text/plain": [
       "97038163"
      ]
     },
     "execution_count": 14,
     "metadata": {},
     "output_type": "execute_result"
    }
   ],
   "source": [
    "with open('input_day7') as f:\n",
    "    lines = f.readlines()\n",
    "#positions = [int(x) for x in \"16,1,2,0,4,2,7,1,2,14\".split(\",\")]\n",
    "positions = [int(x) for x in lines[0].split(\",\")]\n",
    "sum(positions) / len(positions)\n",
    "max_pos = max(positions)\n",
    "min_pos = min(positions)\n",
    "\n",
    "def calculate_cost(positions, loc):\n",
    "    return sum(((pow(loc - pos, 2) + abs(loc - pos)) // 2) for pos in positions)\n",
    "  \n",
    "min([calculate_cost(positions, loc) for loc in range(min_pos, max_pos + 1)])"
   ]
  },
  {
   "cell_type": "code",
   "execution_count": null,
   "id": "b1abb614",
   "metadata": {},
   "outputs": [],
   "source": [
    "# Try something a little smarter, Cost function has a single global minimum (both cost functions)"
   ]
  },
  {
   "cell_type": "code",
   "execution_count": 36,
   "id": "242fbf0b",
   "metadata": {},
   "outputs": [
    {
     "name": "stdout",
     "output_type": "stream",
     "text": [
      "Stepping down to 483\n",
      "Stepping down to 241\n",
      "Stepping up to 362\n",
      "Stepping down to 301\n",
      "Stepping up to 331\n",
      "Stepping up to 346\n",
      "Stepping up to 354\n",
      "Stepping down to 350\n"
     ]
    },
    {
     "data": {
      "text/plain": [
       "345035"
      ]
     },
     "execution_count": 36,
     "metadata": {},
     "output_type": "execute_result"
    }
   ],
   "source": [
    "with open('input_day7') as f:\n",
    "    lines = f.readlines()\n",
    "#positions = [int(x) for x in \"16,1,2,0,4,2,7,1,2,14\".split(\",\")]\n",
    "positions = [int(x) for x in lines[0].split(\",\")]\n",
    "sum(positions) / len(positions)\n",
    "max_pos = max(positions)\n",
    "min_pos = min(positions)\n",
    "\n",
    "def calculate_cost(positions, loc):\n",
    "    return sum(abs(loc - pos) for pos in positions)\n",
    "\n",
    "def find_lowest(positions, loc, lower, upper):\n",
    "    if (upper - lower == 2):\n",
    "        return loc\n",
    "    base = calculate_cost(positions, loc)\n",
    "    if (loc - 1 >= lower and calculate_cost(positions, loc - 1) < base):\n",
    "        print (f\"Stepping down to {(loc + lower) // 2}\")\n",
    "        return find_lowest(positions, (loc + lower) // 2, lower, loc)\n",
    "    elif (loc + 1 <= max_pos and calculate_cost(positions, loc + 1) < base):\n",
    "        print (f\"Stepping up to {(loc + upper) // 2}\")\n",
    "        return find_lowest(positions, (loc + upper) // 2, loc, upper)\n",
    "    else:\n",
    "        return loc  \n",
    "    \n",
    "lowest_pos = find_lowest(positions, (max_pos + min_pos) // 2, min_pos - 1, max_pos + 1)\n",
    "calculate_cost(positions, lowest_pos)"
   ]
  },
  {
   "cell_type": "code",
   "execution_count": 37,
   "id": "2f8a0312",
   "metadata": {},
   "outputs": [
    {
     "name": "stdout",
     "output_type": "stream",
     "text": [
      "Stepping down to 483\n",
      "Stepping down to 241\n",
      "Stepping up to 362\n",
      "Stepping up to 422\n",
      "Stepping up to 452\n",
      "Stepping up to 467\n",
      "Stepping up to 475\n",
      "Stepping up to 479\n",
      "Stepping down to 477\n",
      "Stepping up to 478\n"
     ]
    },
    {
     "data": {
      "text/plain": [
       "97038163"
      ]
     },
     "execution_count": 37,
     "metadata": {},
     "output_type": "execute_result"
    }
   ],
   "source": [
    "with open('input_day7') as f:\n",
    "    lines = f.readlines()\n",
    "#positions = [int(x) for x in \"16,1,2,0,4,2,7,1,2,14\".split(\",\")]\n",
    "positions = [int(x) for x in lines[0].split(\",\")]\n",
    "sum(positions) / len(positions)\n",
    "max_pos = max(positions)\n",
    "min_pos = min(positions)\n",
    "\n",
    "def calculate_cost(positions, loc):\n",
    "    return sum(((pow(loc - pos, 2) + abs(loc - pos)) // 2) for pos in positions)\n",
    "  \n",
    "\n",
    "def find_lowest(positions, loc, lower, upper):\n",
    "    if (upper - lower == 2):\n",
    "        return loc\n",
    "    base = calculate_cost(positions, loc)\n",
    "    if (loc - 1 >= lower and calculate_cost(positions, loc - 1) < base):\n",
    "        print (f\"Stepping down to {(loc + lower) // 2}\")\n",
    "        return find_lowest(positions, (loc + lower) // 2, lower, loc)\n",
    "    elif (loc + 1 <= max_pos and calculate_cost(positions, loc + 1) < base):\n",
    "        print (f\"Stepping up to {(loc + upper) // 2}\")\n",
    "        return find_lowest(positions, (loc + upper) // 2, loc, upper)\n",
    "    else:\n",
    "        return loc  \n",
    "    \n",
    "lowest_pos = find_lowest(positions, (max_pos + min_pos) // 2, min_pos - 1, max_pos + 1)\n",
    "calculate_cost(positions, lowest_pos)"
   ]
  },
  {
   "cell_type": "markdown",
   "id": "67d13335",
   "metadata": {},
   "source": [
    "# Day 8 - Digit Display"
   ]
  },
  {
   "cell_type": "code",
   "execution_count": 72,
   "id": "acf07f27",
   "metadata": {},
   "outputs": [
    {
     "name": "stdout",
     "output_type": "stream",
     "text": [
      "554\n",
      "990964\n"
     ]
    }
   ],
   "source": [
    "example = \"\"\"be cfbegad cbdgef fgaecd cgeb fdcge agebfd fecdb fabcd edb | fdgacbe cefdb cefbgd gcbe\n",
    "edbfga begcd cbg gc gcadebf fbgde acbgfd abcde gfcbed gfec | fcgedb cgb dgebacf gc\n",
    "fgaebd cg bdaec gdafb agbcfd gdcbef bgcad gfac gcb cdgabef | cg cg fdcagb cbg\n",
    "fbegcd cbd adcefb dageb afcb bc aefdc ecdab fgdeca fcdbega | efabcd cedba gadfec cb\n",
    "aecbfdg fbg gf bafeg dbefa fcge gcbea fcaegb dgceab fcbdga | gecf egdcabf bgf bfgea\n",
    "fgeab ca afcebg bdacfeg cfaedg gcfdb baec bfadeg bafgc acf | gebdcfa ecba ca fadegcb\n",
    "dbcfg fgd bdegcaf fgec aegbdf ecdfab fbedc dacgb gdcebf gf | cefg dcbef fcge gbcadfe\n",
    "bdfegc cbegaf gecbf dfcage bdacg ed bedf ced adcbefg gebcd | ed bcgafe cdgba cbgef\n",
    "egadfb cdbfeg cegd fecab cgb gbdefca cg fgcdab egfdb bfceg | gbdfcae bgc cg cgb\n",
    "gcafb gcf dcaebfg ecagb gf abcdeg gaef cafbge fdbac fegbdc | fgae cfgab fg bagce\"\"\"\n",
    "\n",
    "with open('input_day8') as f:\n",
    "    lines = f.readlines()\n",
    "\n",
    "inputs = [(s.split(\" | \")[0].split(), s.split(\" | \")[1].split()) for s in lines]\n",
    "(t, f) = True, False\n",
    "\n",
    "digit_board =[[t, t, t, f, t, t, t],\n",
    " [f, f, t, f, f, t, f],\n",
    " [t, f, t, t, t, f, t],\n",
    " [t, f, t, t, f, t, t],\n",
    " [f, t, t, t, f, t, f],\n",
    " [t, t, f, t, f, t, t],\n",
    " [t, t, f, t, t, t, t],\n",
    " [t, f, t, f, f, t, f],\n",
    " [t, t, t, t, t, t, t],\n",
    " [t, t, t, t, f, t, t]\n",
    "]\n",
    "\n",
    "def charToIndex(c):\n",
    "    return ord(c) - ord(\"a\")\n",
    "\n",
    "def rewire(digits, mapping):\n",
    "    board = []\n",
    "    for digit in digits:\n",
    "        row = [f] * 7\n",
    "        for c in digit:\n",
    "            row[mapping[charToIndex(c)]] = True\n",
    "        board += [row]\n",
    "        \n",
    "    if mapping == [1, 0, 2, 3, 4, 5 ,6]:\n",
    "        print (board)\n",
    "    return board\n",
    "\n",
    "def parseOutput(outputs, mapping):\n",
    "    digits = []\n",
    "    for output in outputs:\n",
    "        row = [f] * 7\n",
    "        for c in output:\n",
    "            row[mapping[charToIndex(c)]] = True\n",
    "        digits += [findRow(row)]\n",
    "    return digits\n",
    "            \n",
    "    \n",
    "def findRow(row):\n",
    "    for (i, digit_row) in enumerate(digit_board):\n",
    "        if (row == digit_row):\n",
    "            return i\n",
    "\n",
    "def checkBoard(board):\n",
    "    return all(row in digit_board for row in board)\n",
    "\n",
    "import itertools\n",
    "def findMapping(digits):   \n",
    "    i = 0\n",
    "              #a. b. c.  d. e. f. g \n",
    "    mapping = [0, 1 , 2, 3, 4, 5, 6]\n",
    "    for m in itertools.permutations(mapping):\n",
    "        if checkBoard(rewire(digits, m)):\n",
    "            #print (f\"Found valid mapping {m}\")\n",
    "            return m\n",
    "\n",
    "# findMapping([\"abcefg\", \"cf\", \"acdeg\", \"acdfg\", \"bcdf\", \"abdfg\", \"abdefg\", \"acf\", \"abcedfg\", \"abcdfg\"])\n",
    "# findMapping([\"abcefg\", \"cf\", \"bcdeg\", \"bcdfg\", \"acdf\", \"abdfg\", \"abdefg\", \"bcf\", \"abcedfg\", \"abcdfg\"])\n",
    "outputs = []\n",
    "output_total = 0\n",
    "for i in inputs:\n",
    "    (digits, output) = i\n",
    "    valid_mapping = findMapping(digits)\n",
    "    output = parseOutput(output, valid_mapping)\n",
    "    outputs += output\n",
    "    output_total += int(\"\".join(str(x) for x in output))\n",
    "\n",
    "digit_counts = [0] * 10;\n",
    "for o in outputs:\n",
    "    digit_counts[o] += 1\n",
    "# Part 1\n",
    "print (digit_counts[1] + digit_counts[4] + digit_counts[7] + digit_counts[8])\n",
    "# Part 2\n",
    "print (output_total)"
   ]
  },
  {
   "cell_type": "markdown",
   "id": "3572e590",
   "metadata": {},
   "source": [
    "# Day 9"
   ]
  },
  {
   "cell_type": "code",
   "execution_count": 221,
   "id": "3d5b2c57",
   "metadata": {},
   "outputs": [
    {
     "name": "stdout",
     "output_type": "stream",
     "text": [
      "Part 1 Solution 478\n",
      "Part 2 Solution 1327014\n"
     ]
    }
   ],
   "source": [
    "#example = \"\"\"2199943210\n",
    "#3987894921\n",
    "#9856789892\n",
    "#8767896789\n",
    "#9899965678\"\"\"\n",
    "\n",
    "#heat_map = [[int(c) for c in line.strip()] for line in example.strip().split(\"\\n\")]\n",
    "\n",
    "with open('input_day9') as f:\n",
    "    lines = f.readlines()\n",
    "\n",
    "heat_map = [[int(c) for c in line.strip()] for line in lines]\n",
    "max_x = len(heat_map[0])\n",
    "max_y = len(heat_map)\n",
    "\n",
    "adjacents = [(0, -1), (0, 1), (1, 0), (-1, 0)]\n",
    "\n",
    "def getPoint(x, y, m):\n",
    "    if (x < 0 or y < 0 or x >= max_x or y >= max_y):\n",
    "        return 9\n",
    "    return m[y][x]\n",
    "    \n",
    "def isLowPoint(x, y, m):\n",
    "    target = getPoint(x, y, m)\n",
    "    return all(target < getPoint(x + i, y + j, m) for (i, j) in adjacents)\n",
    "\n",
    "def getLowestPoints(m):\n",
    "    return [(x,y) for x in range(0, max_x) for y in range (0, max_y) if isLowPoint(x, y, heat_map)]\n",
    "\n",
    "def getDangerLevel(m, debug = False):\n",
    "    low_points_score = 0\n",
    "    for y in range(0, max_y):\n",
    "        row = \"\"\n",
    "        for x in range(0, max_x):\n",
    "            p = str(getPoint(x, y, heat_map))\n",
    "            if (isLowPoint(x, y, heat_map)):\n",
    "                row += f\"\\x1b[3{p}m*\"\n",
    "                low_points_score += (1 + int(p))\n",
    "            else:\n",
    "                row += f\"\\x1b[3{p}m{p}\"\n",
    "        if (debug):\n",
    "            print(row + \"\\x1b[39m\")\n",
    "    return low_points_score\n",
    "\n",
    "\n",
    "## Part 2: Map Basins - Flood Fill Style\n",
    "import copy\n",
    "import math\n",
    "\n",
    "def mapBasin(x, y, m):\n",
    "    c_map = copy.deepcopy(m)\n",
    "    return fillAdj(x, y, c_map)\n",
    "       \n",
    "def fillAdj(x, y, m):\n",
    "    if getPoint(x, y, m) >= 9:\n",
    "        return 0\n",
    "    else:\n",
    "        m[y][x] = 9\n",
    "        return 1 + sum(fillAdj(x + i, y + j, m) for (i,j) in adjacents)\n",
    "\n",
    "def getProdThreeLargestBasins(m):\n",
    "    low_points = getLowestPoints(m)\n",
    "    basin_sizes = [mapBasin(x, y, heat_map) for (x, y) in low_points]\n",
    "    basin_sizes.sort()\n",
    "    return math.prod(basin_sizes[len(basin_sizes) -3: len(basin_sizes)])\n",
    "\n",
    "        \n",
    "print(f\"Part 1 Solution {getDangerLevel(heat_map)}\")\n",
    "print(f\"Part 2 Solution {getProdThreeLargestBasins(heat_map)}\")\n"
   ]
  },
  {
   "cell_type": "code",
   "execution_count": 176,
   "id": "46b2e253",
   "metadata": {},
   "outputs": [
    {
     "data": {
      "text/plain": [
       "[None,\n",
       " None,\n",
       " None,\n",
       " None,\n",
       " None,\n",
       " None,\n",
       " None,\n",
       " None,\n",
       " None,\n",
       " None,\n",
       " None,\n",
       " None,\n",
       " None,\n",
       " None,\n",
       " None,\n",
       " None,\n",
       " None,\n",
       " None,\n",
       " None,\n",
       " None,\n",
       " None,\n",
       " None,\n",
       " None,\n",
       " None,\n",
       " None,\n",
       " None,\n",
       " None,\n",
       " None,\n",
       " None,\n",
       " None,\n",
       " None,\n",
       " None,\n",
       " None,\n",
       " None,\n",
       " None,\n",
       " None,\n",
       " None,\n",
       " None,\n",
       " None,\n",
       " None,\n",
       " None,\n",
       " None,\n",
       " None,\n",
       " None,\n",
       " None,\n",
       " None,\n",
       " None,\n",
       " None,\n",
       " None,\n",
       " None,\n",
       " None,\n",
       " None,\n",
       " None,\n",
       " None,\n",
       " None,\n",
       " None,\n",
       " None,\n",
       " None,\n",
       " None,\n",
       " None,\n",
       " None,\n",
       " None,\n",
       " None,\n",
       " None,\n",
       " None,\n",
       " None,\n",
       " None,\n",
       " None,\n",
       " None,\n",
       " None,\n",
       " None,\n",
       " None,\n",
       " None,\n",
       " None,\n",
       " None,\n",
       " None,\n",
       " None,\n",
       " None,\n",
       " None,\n",
       " None,\n",
       " None,\n",
       " None,\n",
       " None,\n",
       " None,\n",
       " None,\n",
       " None,\n",
       " None,\n",
       " None,\n",
       " None,\n",
       " None,\n",
       " None,\n",
       " None,\n",
       " None,\n",
       " None,\n",
       " None,\n",
       " None,\n",
       " None,\n",
       " None,\n",
       " None,\n",
       " None,\n",
       " None,\n",
       " None,\n",
       " None,\n",
       " None,\n",
       " None,\n",
       " None,\n",
       " None,\n",
       " None,\n",
       " None,\n",
       " None,\n",
       " None,\n",
       " None,\n",
       " None,\n",
       " None,\n",
       " None,\n",
       " None,\n",
       " None,\n",
       " None,\n",
       " None,\n",
       " None,\n",
       " None,\n",
       " None,\n",
       " None,\n",
       " None,\n",
       " None,\n",
       " None,\n",
       " None,\n",
       " None,\n",
       " None,\n",
       " None,\n",
       " None,\n",
       " None,\n",
       " None,\n",
       " None,\n",
       " None,\n",
       " None,\n",
       " None,\n",
       " None,\n",
       " None,\n",
       " None,\n",
       " None,\n",
       " None,\n",
       " None,\n",
       " None,\n",
       " None,\n",
       " None,\n",
       " None,\n",
       " None,\n",
       " None,\n",
       " None,\n",
       " None,\n",
       " None,\n",
       " None,\n",
       " None,\n",
       " None,\n",
       " None,\n",
       " None,\n",
       " None,\n",
       " None,\n",
       " None,\n",
       " None,\n",
       " None,\n",
       " None,\n",
       " None,\n",
       " None,\n",
       " None,\n",
       " None,\n",
       " None,\n",
       " None,\n",
       " None,\n",
       " None,\n",
       " None,\n",
       " None,\n",
       " None,\n",
       " None,\n",
       " None,\n",
       " None,\n",
       " None,\n",
       " None,\n",
       " None,\n",
       " None,\n",
       " None,\n",
       " None,\n",
       " None,\n",
       " None,\n",
       " None,\n",
       " None,\n",
       " None,\n",
       " None,\n",
       " None,\n",
       " None,\n",
       " None,\n",
       " None,\n",
       " None,\n",
       " None,\n",
       " None,\n",
       " None,\n",
       " None,\n",
       " None,\n",
       " None,\n",
       " None,\n",
       " None,\n",
       " None,\n",
       " None,\n",
       " None,\n",
       " None,\n",
       " None,\n",
       " None]"
      ]
     },
     "execution_count": 176,
     "metadata": {},
     "output_type": "execute_result"
    }
   ],
   "source": [
    "\n",
    "    "
   ]
  },
  {
   "cell_type": "markdown",
   "id": "51d07f0e",
   "metadata": {},
   "source": [
    "# Day 10"
   ]
  },
  {
   "cell_type": "code",
   "execution_count": 294,
   "id": "858775a6",
   "metadata": {},
   "outputs": [
    {
     "name": "stdout",
     "output_type": "stream",
     "text": [
      "Part 1: Syntax Failure : 323691\n",
      "Part 2: Auto-complete Failure: 2858785164\n"
     ]
    }
   ],
   "source": [
    "#example = \"\"\"[({(<(())[]>[[{[]{<()<>>\n",
    "#[(()[<>])]({[<{<<[]>>(\n",
    "#{([(<{}[<>[]}>{[]{[(<()>\n",
    "#(((({<>}<{<{<>}{[]{[]{}\n",
    "#[[<[([]))<([[{}[[()]]]\n",
    "#[{[{({}]{}}([{[{{{}}([]\n",
    "#{<[[]]>}<{[{[{[]{()[[[]\n",
    "#[<(<(<(<{}))><([]([]()\n",
    "#<{([([[(<>()){}]>(<<{{\n",
    "#<{([{{}}[<[[[<>{}]]]>[]]\n",
    "#\"\"\"\n",
    "#lines = example.split(\"\\n\")\n",
    "\n",
    "with open('input_day10') as f:\n",
    "    lines = list(map(lambda x: x.strip(), f.readlines()))\n",
    "\n",
    "points = {\")\" : 3, \"]\" : 57, \"}\" : 1197, \">\" : 25137, None : 0}\n",
    "ac_points = {\")\" : 1, \"]\" : 2, \"}\" : 3, \">\" : 4}\n",
    "opening = \"[(<{\"\n",
    "closing = \"])>}\"\n",
    "\n",
    "oc = {\"[\" : \"]\", \"(\" : \")\", \"<\" : \">\", \"{\" : \"}\"}\n",
    "\n",
    "\n",
    "\n",
    "def checkSyntax(line):\n",
    "    stack = []\n",
    "    for c in line:\n",
    "        if (c in opening):\n",
    "            stack.append(c)\n",
    "        if (c in closing):\n",
    "            expected = stack.pop()\n",
    "            if (c != oc[expected]):\n",
    "                return c\n",
    "            \n",
    "def completeLineScore(line):\n",
    "    stack = []\n",
    "    for c in line:\n",
    "        if (c in opening):\n",
    "            stack.append(c)\n",
    "        if (c in closing):\n",
    "            expected = stack.pop()\n",
    "    stack.reverse()\n",
    "    missing_characters = [oc[c] for c in stack]\n",
    "    scores = [ac_points[c] for c in missing_characters]\n",
    "    total_score = 0\n",
    "    for score in scores:\n",
    "        total_score *= 5 \n",
    "        total_score += score\n",
    "    return total_score\n",
    "            \n",
    "            \n",
    "def syntaxPoints(lines):\n",
    "    scores = [points[checkSyntax(line)] for line in lines]\n",
    "    return sum(scores)\n",
    "\n",
    "def middle(values):\n",
    "    values.sort()\n",
    "    return values[len(values) // 2]\n",
    "\n",
    "def autoCompletePoints(lines):\n",
    "    scores = [completeLineScore(line) for line in lines if checkSyntax(line) is None]\n",
    "    return middle(scores)\n",
    "\n",
    "\n",
    "# Part 1: Syntax Failures\n",
    "print(f\"Part 1: Syntax Failure : {syntaxPoints(lines)}\")\n",
    "# Part 2: Autocomplete Points\n",
    "print(f\"Part 2: Auto-complete Failure: {autoCompletePoints(lines)}\")              "
   ]
  },
  {
   "cell_type": "code",
   "execution_count": null,
   "id": "c927f7e6",
   "metadata": {},
   "outputs": [],
   "source": []
  }
 ],
 "metadata": {
  "kernelspec": {
   "display_name": "Python 3 (ipykernel)",
   "language": "python",
   "name": "python3"
  },
  "language_info": {
   "codemirror_mode": {
    "name": "ipython",
    "version": 3
   },
   "file_extension": ".py",
   "mimetype": "text/x-python",
   "name": "python",
   "nbconvert_exporter": "python",
   "pygments_lexer": "ipython3",
   "version": "3.9.9"
  }
 },
 "nbformat": 4,
 "nbformat_minor": 5
}
