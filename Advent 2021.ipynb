{
 "cells": [
  {
   "cell_type": "markdown",
   "id": "dbfafec9",
   "metadata": {},
   "source": [
    "# Day 1"
   ]
  },
  {
   "cell_type": "code",
   "execution_count": 3,
   "id": "64b53dda",
   "metadata": {},
   "outputs": [
    {
     "data": {
      "text/plain": [
       "1715"
      ]
     },
     "execution_count": 3,
     "metadata": {},
     "output_type": "execute_result"
    }
   ],
   "source": [
    "## Day 1: Part 1 - Sliding Window Increases\n",
    "with open('input_day1') as f:\n",
    "    lines = f.readlines()\n",
    "lines = [int(line) for line in lines]\n",
    "pairs = [lines[x: x + 2] for x in range (0, len(lines) - 1)]\n",
    "increasing_pairs = [pair for pair in pairs if pair[1] > pair[0]]\n",
    "len(increasing_pairs)"
   ]
  },
  {
   "cell_type": "code",
   "execution_count": 4,
   "id": "9b5cdff4",
   "metadata": {},
   "outputs": [
    {
     "data": {
      "text/plain": [
       "1739"
      ]
     },
     "execution_count": 4,
     "metadata": {},
     "output_type": "execute_result"
    }
   ],
   "source": [
    "## Day 1: Part 2 - Sliding Triplet Increases\n",
    "triplets = [lines[x: x + 3] for x in range (0, len(lines) - 2)]\n",
    "triplet_sums = [sum(triplet) for triplet in triplets]\n",
    "triplet_sum_pairs =  [triplet_sums[x: x + 2] for x in range (0, len(triplet_sums) - 1)]\n",
    "increasing_triplets = [triplet_pair for triplet_pair in triplet_sum_pairs if triplet_pair[1] > triplet_pair[0]] \n",
    "len(increasing_triplets)"
   ]
  },
  {
   "cell_type": "markdown",
   "id": "4d5eba13",
   "metadata": {},
   "source": [
    "# Day 2"
   ]
  },
  {
   "cell_type": "code",
   "execution_count": 11,
   "id": "f3a8cd25",
   "metadata": {},
   "outputs": [
    {
     "data": {
      "text/plain": [
       "2019945"
      ]
     },
     "execution_count": 11,
     "metadata": {},
     "output_type": "execute_result"
    }
   ],
   "source": [
    "## Day 2: Part 2 - Navigation\n",
    "with open('input_day2') as f:\n",
    "    lines = f.readlines()\n",
    "lines = [line.split(\" \") for line in lines]\n",
    "instructions = [[line[0], int(line[1])] for line in lines]\n",
    "horizontal, depth = 0, 0\n",
    "for [direction, speed] in instructions:\n",
    "    if direction == \"forward\":\n",
    "        horizontal += speed\n",
    "    elif direction == \"up\":\n",
    "        depth -= speed\n",
    "    elif direction == \"down\":\n",
    "        depth += speed\n",
    "    else:\n",
    "        raise ValueError(f\"Unknown direction: {direction}\")\n",
    "(horizontal * depth)\n",
    "        "
   ]
  },
  {
   "cell_type": "code",
   "execution_count": 12,
   "id": "03bc7cc4",
   "metadata": {},
   "outputs": [
    {
     "data": {
      "text/plain": [
       "1599311480"
      ]
     },
     "execution_count": 12,
     "metadata": {},
     "output_type": "execute_result"
    }
   ],
   "source": [
    "## Day 2: Part 2 - Navigation with Aim\n",
    "with open('input_day2') as f:\n",
    "    lines = f.readlines()\n",
    "lines = [line.split(\" \") for line in lines]\n",
    "instructions = [[line[0], int(line[1])] for line in lines]\n",
    "horizontal, depth, aim = 0, 0, 0\n",
    "for [direction, speed] in instructions:\n",
    "    if direction == \"forward\":\n",
    "        horizontal += speed\n",
    "        depth += speed * aim\n",
    "    elif direction == \"up\":\n",
    "        aim -= speed\n",
    "    elif direction == \"down\":\n",
    "        aim += speed\n",
    "    else:\n",
    "        raise ValueError(f\"Unknown direction: {direction}\")\n",
    "(horizontal * depth)"
   ]
  },
  {
   "cell_type": "markdown",
   "id": "987a5381",
   "metadata": {},
   "source": [
    "# Day 3"
   ]
  },
  {
   "cell_type": "code",
   "execution_count": 52,
   "id": "d3af0705",
   "metadata": {},
   "outputs": [
    {
     "data": {
      "text/plain": [
       "4160394"
      ]
     },
     "execution_count": 52,
     "metadata": {},
     "output_type": "execute_result"
    }
   ],
   "source": [
    "## Day 3: Part 1 - Power Rating\n",
    "with open('input_day3') as f:\n",
    "    lines = f.readlines()\n",
    "lines = [line.strip() for line in lines]\n",
    "frequency = [0] * len(lines[0])\n",
    "for line in lines:\n",
    "    for idx, character in enumerate(line):\n",
    "        if character == \"1\":\n",
    "            frequency[idx] += 1\n",
    "gamma = [min(int(f // (len(lines) / 2)), 1) for f in frequency]\n",
    "epsilon = [abs(f -1) for f in gamma]\n",
    "gamma_int = int(\"\".join((str(g) for g in gamma)), 2)\n",
    "epislon_int = int(\"\".join((str(e) for e in epsilon)), 2)\n",
    "gamma_int * epislon_int"
   ]
  },
  {
   "cell_type": "code",
   "execution_count": 50,
   "id": "dec7f92f",
   "metadata": {},
   "outputs": [
    {
     "data": {
      "text/plain": [
       "4125600"
      ]
     },
     "execution_count": 50,
     "metadata": {},
     "output_type": "execute_result"
    }
   ],
   "source": [
    "## Day 3: Part 2 - CO2 and Oxygen Rating\n",
    "with open('input_day3') as f:\n",
    "    lines = f.readlines()\n",
    "lines = [line.strip() for line in lines]\n",
    "line_len = len(lines[0])\n",
    "\n",
    "idx = 0\n",
    "ox_data = lines\n",
    "while len(ox_data) > 1:\n",
    "    freq = 0\n",
    "    for data in ox_data:\n",
    "        if data[idx] == \"1\":\n",
    "            freq += 1\n",
    "    most_frequent = min(int(freq // (len(ox_data) / 2)), 1)\n",
    "    ox_data = [data for data in ox_data if data[idx] == str(most_frequent)]\n",
    "    idx += 1\n",
    "ox_rating = int(ox_data[0], 2)\n",
    "\n",
    "idx = 0\n",
    "co_data = lines\n",
    "while len(co_data) > 1:\n",
    "    freq = 0\n",
    "    for data in co_data:\n",
    "        if data[idx] == \"1\":\n",
    "            freq += 1\n",
    "    least_frequent = abs(min(int(freq // (len(co_data) / 2)), 1) - 1)\n",
    "    co_data = [data for data in co_data if data[idx] == str(least_frequent)]\n",
    "    idx += 1\n",
    "co_rating = int(co_data[0], 2)\n",
    "\n",
    "\n",
    "ox_rating * co_rating\n"
   ]
  },
  {
   "cell_type": "markdown",
   "id": "ba3522ea",
   "metadata": {},
   "source": [
    "# Day 4"
   ]
  },
  {
   "cell_type": "code",
   "execution_count": 74,
   "id": "a7836bcb",
   "metadata": {},
   "outputs": [
    {
     "name": "stdout",
     "output_type": "stream",
     "text": [
      "['46', '79', '77', '45', '57', '34', '44', '13', '32', '88', '86', '82', '91', '97', '89', '1', '48', '31', '18', '10', '55', '74', '24', '11', '80', '78', '28']\n",
      "\n",
      "['19', '85', '36', '73', '71']\n",
      "['65', '62', '14', '52', '3']\n",
      "['30', '83', '44*', '41', '5']\n",
      "['55*', '15', '0', '61', '95']\n",
      "['28*', '13*', '32*', '31*', '88*']\n"
     ]
    },
    {
     "data": {
      "text/plain": [
       "22680"
      ]
     },
     "execution_count": 74,
     "metadata": {},
     "output_type": "execute_result"
    }
   ],
   "source": [
    "## Day 4: Part1 Squid Bingo\n",
    "\n",
    "## Bingo Board Dimension\n",
    "bingo_dim = 5\n",
    "## Indicies of diagnoal elements\n",
    "diag_elements = [[(x,x) for x in range(0, bingo_dim)], [(x, bingo_dim - (x+1)) for x in range(0, bingo_dim)]]\n",
    "\n",
    "\n",
    "with open('input_day4') as f:\n",
    "    lines = f.readlines()\n",
    "\n",
    "number_draws = [x for x in lines[0].strip().split(\",\")]\n",
    "number_draws\n",
    "\n",
    "boards_string = lines[1::]\n",
    "\n",
    "def read_boards(input):\n",
    "    remaining_input = input\n",
    "    boards = []\n",
    "    while(len(remaining_input) != 0):\n",
    "        board = [row.strip().split() for row in remaining_input[1:1 + bingo_dim]]\n",
    "        remaining_input = remaining_input[1 + bingo_dim::]\n",
    "        boards += [board]\n",
    "    return boards\n",
    "\n",
    "def mark(board, draws):\n",
    "    draws = set(draws)\n",
    "    return [[square in draws for square in row] for row in board]\n",
    "    \n",
    "def board_victory(board, draws):\n",
    "    marked = mark(board, draws)\n",
    "    row_victories = [all(row) for row in marked]\n",
    "    col_victories = [all(col) for col in list(map(list, zip(*marked)))]\n",
    "    diagonal_victories = [all([marked[diag[0]][diag[1]] for diag in diag_path]) for diag_path in diag_elements] \n",
    "    return any(row_victories) or any(col_victories) or any(diagonal_victories)\n",
    "\n",
    "def sum_unmarked(board, draws):\n",
    "    draws = set(draws)\n",
    "    return sum(sum([int(square) for square in row if square not in draws]) for row in board)\n",
    "\n",
    "def print_board(board, draws):\n",
    "    for row in board:\n",
    "        print ([element + (\"\" if element not in draws else \"*\") for element in row])\n",
    "\n",
    "def find_winner(boards, full_draws):\n",
    "    for draw_idx in range(1, len(full_draws)):\n",
    "        draws = full_draws[0: draw_idx]\n",
    "        for board in boards:\n",
    "            if board_victory(board, draws):\n",
    "                print(draws)\n",
    "                print()\n",
    "                print_board(board, draws)\n",
    "                return sum_unmarked(board, draws) * int(draws[-1])\n",
    "        \n",
    "boards = read_boards(boards_string)\n",
    "#print(boards[0])\n",
    "#board_victory(boards[0], {'96', '33', '74', '35', '13'})\n",
    "find_winner(boards, number_draws)"
   ]
  },
  {
   "cell_type": "code",
   "execution_count": 73,
   "id": "76df3a11",
   "metadata": {},
   "outputs": [
    {
     "name": "stdout",
     "output_type": "stream",
     "text": [
      "['46', '79', '77', '45', '57', '34', '44', '13', '32', '88', '86', '82', '91', '97', '89', '1', '48', '31', '18', '10', '55', '74', '24', '11', '80', '78', '28', '37', '47', '17', '21', '61', '26', '85', '99', '96', '23', '70', '3', '54', '5', '41', '50', '63', '14', '64', '42', '36', '95', '52', '76', '68', '29', '9', '98', '35', '84', '83', '71', '49', '73', '58', '56', '66', '92', '30', '51', '20', '81', '69', '65', '15', '6', '16', '39', '43', '67', '7', '59', '40', '60', '4', '90', '72', '22', '0', '93', '94']\n",
      "\n",
      "['72*', '49*', '51*', '12', '43*']\n",
      "['73*', '56*', '83*', '4*', '27']\n",
      "['48*', '94*', '38', '18*', '32*']\n",
      "['14*', '96*', '36*', '8', '13*']\n",
      "['87', '60*', '5*', '77*', '42*']\n"
     ]
    },
    {
     "data": {
      "text/plain": [
       "16168"
      ]
     },
     "execution_count": 73,
     "metadata": {},
     "output_type": "execute_result"
    }
   ],
   "source": [
    "## Day 4: Part2 Squid Bingo Loser\n",
    "def find_loser(init_boards, full_draws):\n",
    "    boards = init_boards\n",
    "    for draw_idx in range(1, len(full_draws)):\n",
    "        draws = full_draws[0: draw_idx]\n",
    "        if (len(boards) == 1 and board_victory(boards[0], draws)):\n",
    "            # There is only one board left to check and it won, it is the last winner\n",
    "            print(draws)\n",
    "            print()\n",
    "            print_board(boards[0], draws)\n",
    "            return sum_unmarked(boards[0], draws) * int(draws[-1])\n",
    "        else:\n",
    "            # Remove all winners\n",
    "            boards = [board for board in boards if not board_victory(board, draws)]\n",
    "            \n",
    "find_loser(boards, number_draws)        \n"
   ]
  },
  {
   "cell_type": "code",
   "execution_count": null,
   "id": "eb2503b8",
   "metadata": {},
   "outputs": [],
   "source": []
  }
 ],
 "metadata": {
  "kernelspec": {
   "display_name": "Python 3 (ipykernel)",
   "language": "python",
   "name": "python3"
  },
  "language_info": {
   "codemirror_mode": {
    "name": "ipython",
    "version": 3
   },
   "file_extension": ".py",
   "mimetype": "text/x-python",
   "name": "python",
   "nbconvert_exporter": "python",
   "pygments_lexer": "ipython3",
   "version": "3.9.9"
  }
 },
 "nbformat": 4,
 "nbformat_minor": 5
}
