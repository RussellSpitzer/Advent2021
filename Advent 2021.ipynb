{
 "cells": [
  {
   "cell_type": "markdown",
   "id": "7cd8ec23",
   "metadata": {},
   "source": [
    "# Day 1"
   ]
  },
  {
   "cell_type": "code",
   "execution_count": 3,
   "id": "64b53dda",
   "metadata": {},
   "outputs": [
    {
     "data": {
      "text/plain": [
       "1715"
      ]
     },
     "execution_count": 3,
     "metadata": {},
     "output_type": "execute_result"
    }
   ],
   "source": [
    "## Day 1: Part 1 - Sliding Window Increases\n",
    "## Load parse\n",
    "with open('input_day1') as f:\n",
    "    lines = f.readlines()\n",
    "lines = [int(line) for line in lines]\n",
    "pairs = [lines[x: x + 2] for x in range (0, len(lines) - 1)]\n",
    "increasing_pairs = [pair for pair in pairs if pair[1] > pair[0]]\n",
    "len(increasing_pairs)"
   ]
  },
  {
   "cell_type": "code",
   "execution_count": 4,
   "id": "9b5cdff4",
   "metadata": {},
   "outputs": [
    {
     "data": {
      "text/plain": [
       "1739"
      ]
     },
     "execution_count": 4,
     "metadata": {},
     "output_type": "execute_result"
    }
   ],
   "source": [
    "## Day 1: Part 2 - Sliding Triplet Increases\n",
    "triplets = [lines[x: x + 3] for x in range (0, len(lines) - 2)]\n",
    "triplet_sums = [sum(triplet) for triplet in triplets]\n",
    "triplet_sum_pairs =  [triplet_sums[x: x + 2] for x in range (0, len(triplet_sums) - 1)]\n",
    "increasing_triplets = [triplet_pair for triplet_pair in triplet_sum_pairs if triplet_pair[1] > triplet_pair[0]] \n",
    "len(increasing_triplets)"
   ]
  },
  {
   "cell_type": "code",
   "execution_count": null,
   "id": "a24c8bf1",
   "metadata": {},
   "outputs": [],
   "source": []
  },
  {
   "cell_type": "raw",
   "id": "2b80b7dc",
   "metadata": {},
   "source": []
  }
 ],
 "metadata": {
  "kernelspec": {
   "display_name": "Python 3 (ipykernel)",
   "language": "python",
   "name": "python3"
  },
  "language_info": {
   "codemirror_mode": {
    "name": "ipython",
    "version": 3
   },
   "file_extension": ".py",
   "mimetype": "text/x-python",
   "name": "python",
   "nbconvert_exporter": "python",
   "pygments_lexer": "ipython3",
   "version": "3.9.9"
  }
 },
 "nbformat": 4,
 "nbformat_minor": 5
}
