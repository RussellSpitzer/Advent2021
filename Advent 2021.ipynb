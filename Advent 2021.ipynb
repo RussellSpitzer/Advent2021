{
 "cells": [
  {
   "cell_type": "markdown",
   "id": "dbfafec9",
   "metadata": {},
   "source": [
    "# Day 1"
   ]
  },
  {
   "cell_type": "code",
   "execution_count": 3,
   "id": "64b53dda",
   "metadata": {},
   "outputs": [
    {
     "data": {
      "text/plain": [
       "1715"
      ]
     },
     "execution_count": 3,
     "metadata": {},
     "output_type": "execute_result"
    }
   ],
   "source": [
    "## Day 1: Part 1 - Sliding Window Increases\n",
    "with open('input_day1') as f:\n",
    "    lines = f.readlines()\n",
    "lines = [int(line) for line in lines]\n",
    "pairs = [lines[x: x + 2] for x in range (0, len(lines) - 1)]\n",
    "increasing_pairs = [pair for pair in pairs if pair[1] > pair[0]]\n",
    "len(increasing_pairs)"
   ]
  },
  {
   "cell_type": "code",
   "execution_count": 4,
   "id": "9b5cdff4",
   "metadata": {},
   "outputs": [
    {
     "data": {
      "text/plain": [
       "1739"
      ]
     },
     "execution_count": 4,
     "metadata": {},
     "output_type": "execute_result"
    }
   ],
   "source": [
    "## Day 1: Part 2 - Sliding Triplet Increases\n",
    "triplets = [lines[x: x + 3] for x in range (0, len(lines) - 2)]\n",
    "triplet_sums = [sum(triplet) for triplet in triplets]\n",
    "triplet_sum_pairs =  [triplet_sums[x: x + 2] for x in range (0, len(triplet_sums) - 1)]\n",
    "increasing_triplets = [triplet_pair for triplet_pair in triplet_sum_pairs if triplet_pair[1] > triplet_pair[0]] \n",
    "len(increasing_triplets)"
   ]
  },
  {
   "cell_type": "markdown",
   "id": "4d5eba13",
   "metadata": {},
   "source": [
    "# Day 2"
   ]
  },
  {
   "cell_type": "code",
   "execution_count": 11,
   "id": "f3a8cd25",
   "metadata": {},
   "outputs": [
    {
     "data": {
      "text/plain": [
       "2019945"
      ]
     },
     "execution_count": 11,
     "metadata": {},
     "output_type": "execute_result"
    }
   ],
   "source": [
    "## Day 2: Part 2 - Navigation\n",
    "with open('input_day2') as f:\n",
    "    lines = f.readlines()\n",
    "lines = [line.split(\" \") for line in lines]\n",
    "instructions = [[line[0], int(line[1])] for line in lines]\n",
    "horizontal, depth = 0, 0\n",
    "for [direction, speed] in instructions:\n",
    "    if direction == \"forward\":\n",
    "        horizontal += speed\n",
    "    elif direction == \"up\":\n",
    "        depth -= speed\n",
    "    elif direction == \"down\":\n",
    "        depth += speed\n",
    "    else:\n",
    "        raise ValueError(f\"Unknown direction: {direction}\")\n",
    "(horizontal * depth)\n",
    "        "
   ]
  },
  {
   "cell_type": "code",
   "execution_count": 12,
   "id": "03bc7cc4",
   "metadata": {},
   "outputs": [
    {
     "data": {
      "text/plain": [
       "1599311480"
      ]
     },
     "execution_count": 12,
     "metadata": {},
     "output_type": "execute_result"
    }
   ],
   "source": [
    "## Day 2: Part 2 - Navigation with Aim\n",
    "with open('input_day2') as f:\n",
    "    lines = f.readlines()\n",
    "lines = [line.split(\" \") for line in lines]\n",
    "instructions = [[line[0], int(line[1])] for line in lines]\n",
    "horizontal, depth, aim = 0, 0, 0\n",
    "for [direction, speed] in instructions:\n",
    "    if direction == \"forward\":\n",
    "        horizontal += speed\n",
    "        depth += speed * aim\n",
    "    elif direction == \"up\":\n",
    "        aim -= speed\n",
    "    elif direction == \"down\":\n",
    "        aim += speed\n",
    "    else:\n",
    "        raise ValueError(f\"Unknown direction: {direction}\")\n",
    "(horizontal * depth)"
   ]
  },
  {
   "cell_type": "markdown",
   "id": "987a5381",
   "metadata": {},
   "source": [
    "# Day 3"
   ]
  },
  {
   "cell_type": "code",
   "execution_count": 52,
   "id": "d3af0705",
   "metadata": {},
   "outputs": [
    {
     "data": {
      "text/plain": [
       "4160394"
      ]
     },
     "execution_count": 52,
     "metadata": {},
     "output_type": "execute_result"
    }
   ],
   "source": [
    "## Day 3: Part 1 - Power Rating\n",
    "with open('input_day3') as f:\n",
    "    lines = f.readlines()\n",
    "lines = [line.strip() for line in lines]\n",
    "frequency = [0] * len(lines[0])\n",
    "for line in lines:\n",
    "    for idx, character in enumerate(line):\n",
    "        if character == \"1\":\n",
    "            frequency[idx] += 1\n",
    "gamma = [min(int(f // (len(lines) / 2)), 1) for f in frequency]\n",
    "epsilon = [abs(f -1) for f in gamma]\n",
    "gamma_int = int(\"\".join((str(g) for g in gamma)), 2)\n",
    "epislon_int = int(\"\".join((str(e) for e in epsilon)), 2)\n",
    "gamma_int * epislon_int"
   ]
  },
  {
   "cell_type": "code",
   "execution_count": 50,
   "id": "dec7f92f",
   "metadata": {},
   "outputs": [
    {
     "data": {
      "text/plain": [
       "4125600"
      ]
     },
     "execution_count": 50,
     "metadata": {},
     "output_type": "execute_result"
    }
   ],
   "source": [
    "## Day 3: Part 2 - CO2 and Oxygen Rating\n",
    "with open('input_day3') as f:\n",
    "    lines = f.readlines()\n",
    "lines = [line.strip() for line in lines]\n",
    "line_len = len(lines[0])\n",
    "\n",
    "idx = 0\n",
    "ox_data = lines\n",
    "while len(ox_data) > 1:\n",
    "    freq = 0\n",
    "    for data in ox_data:\n",
    "        if data[idx] == \"1\":\n",
    "            freq += 1\n",
    "    most_frequent = min(int(freq // (len(ox_data) / 2)), 1)\n",
    "    ox_data = [data for data in ox_data if data[idx] == str(most_frequent)]\n",
    "    idx += 1\n",
    "ox_rating = int(ox_data[0], 2)\n",
    "\n",
    "idx = 0\n",
    "co_data = lines\n",
    "while len(co_data) > 1:\n",
    "    freq = 0\n",
    "    for data in co_data:\n",
    "        if data[idx] == \"1\":\n",
    "            freq += 1\n",
    "    least_frequent = abs(min(int(freq // (len(co_data) / 2)), 1) - 1)\n",
    "    co_data = [data for data in co_data if data[idx] == str(least_frequent)]\n",
    "    idx += 1\n",
    "co_rating = int(co_data[0], 2)\n",
    "\n",
    "\n",
    "ox_rating * co_rating\n"
   ]
  },
  {
   "cell_type": "code",
   "execution_count": null,
   "id": "fe02b635",
   "metadata": {},
   "outputs": [],
   "source": []
  }
 ],
 "metadata": {
  "kernelspec": {
   "display_name": "Python 3 (ipykernel)",
   "language": "python",
   "name": "python3"
  },
  "language_info": {
   "codemirror_mode": {
    "name": "ipython",
    "version": 3
   },
   "file_extension": ".py",
   "mimetype": "text/x-python",
   "name": "python",
   "nbconvert_exporter": "python",
   "pygments_lexer": "ipython3",
   "version": "3.9.9"
  }
 },
 "nbformat": 4,
 "nbformat_minor": 5
}
